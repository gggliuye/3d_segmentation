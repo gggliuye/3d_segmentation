{
 "cells": [
  {
   "cell_type": "code",
   "execution_count": 1,
   "metadata": {
    "scrolled": true
   },
   "outputs": [],
   "source": [
    "import numpy as np\n",
    "import progressbar\n",
    "import cv2\n",
    "from Drawer import Drawer\n",
    "from PIL import Image\n",
    "from Reconstruction import *"
   ]
  },
  {
   "cell_type": "markdown",
   "metadata": {},
   "source": [
    "## Get camera pose from ORBSLAM2 outputs\n",
    "\n",
    "#### original version:\n",
    "\n",
    "1. Trw = Trw*pKF->GetPose()*Two;\n",
    "2. cv::Mat Tcw = (*lit)*Trw;\n",
    "3. cv::Mat Rwc = Tcw.rowRange(0,3).colRange(0,3).t();\n",
    "4. cv::Mat twc = -Rwc*Tcw.rowRange(0,3).col(3);\n",
    "5. vector<float> q = Converter::toQuaternion(Rwc);\n",
    "6. f << setprecision(6) << *lT << \" \" <<  setprecision(9) <<twc.at<float>(0) << \" \" << twc.at<float>(1) << \" \" << twc.at<float>(2) << \" \" << q[0] << \" \" << q[1] << \" \" << q[2] << \" \" << q[3]"
   ]
  },
  {
   "cell_type": "markdown",
   "metadata": {},
   "source": [
    "1. Each line in the text file contains a single pose.\n",
    "2. The format of each line is 'timestamp tx ty tz qx qy qz qw'\n",
    "3. timestamp (float) gives the number of seconds since the Unix epoch.\n",
    "4. tx ty tz (3 floats) give the position of the optical center of the color camera with respect to the world origin as defined by the motion capture system.\n",
    "5. qx qy qz qw (4 floats) give the orientation of the optical center of the color camera in form of a unit quaternion with respect to the world origin as defined by the motion capture system.\n",
    "6. The file may contain comments that have to start with “#”."
   ]
  },
  {
   "cell_type": "code",
   "execution_count": 2,
   "metadata": {},
   "outputs": [],
   "source": [
    "traj_doc = '/home/viki/PFE/result/08_29'\n",
    "camera_file = open(traj_doc+'/CameraTrajectory.txt', 'r') \n",
    "keyframe_file = open(traj_doc+'/KeyFrameTrajectory.txt', 'r') \n",
    "camera_trajectory = camera_file.readlines() \n",
    "keyframe_trajectory = keyframe_file.readlines() "
   ]
  },
  {
   "cell_type": "code",
   "execution_count": 13,
   "metadata": {},
   "outputs": [
    {
     "name": "stdout",
     "output_type": "stream",
     "text": [
      "['999.000000', '0.299214005', '-0.458656967', '1.939037919', '0.171482503', '0.906523347', '0.293236613', '0.250642210']\n"
     ]
    }
   ],
   "source": [
    "pose0 = camera_trajectory[999].split()\n",
    "print(pose0)"
   ]
  },
  {
   "cell_type": "markdown",
   "metadata": {},
   "source": [
    "#### change to :\n",
    "1. cv::Mat R = pKF->GetRotation().t();\n",
    "2. cv::Mat t = pKF->GetCameraCenter();\n",
    "3. f << setprecision(6) << pKF->mTimeStamp << setprecision(7) << \" \" << t.at<float>(0) << \" \" << t.at<float>(1) << \" \" << t.at<float>(2)<< \" \" << t.at<float>(0,0) << \" \" << t.at<float>(0,1) << \" \" << t.at<float>(0,2)<< \" \" << t.at<float>(1,0) << \" \" << t.at<float>(1,1) << \" \" << t.at<float>(1,2) << \" \" << t.at<float>(2,0) << \" \" << t.at<float>(2,1) << \" \" << t.at<float>(2,2) << endl;"
   ]
  },
  {
   "cell_type": "markdown",
   "metadata": {},
   "source": [
    "## Test"
   ]
  },
  {
   "cell_type": "code",
   "execution_count": 2,
   "metadata": {},
   "outputs": [
    {
     "name": "stdout",
     "output_type": "stream",
     "text": [
      " Camera pose matirx loaded.\n"
     ]
    }
   ],
   "source": [
    "frame_doc = '/home/viki/PFE/orbslam_frames/RGBD_example/orbslam'\n",
    "traj_doc = '/home/viki/PFE/result/08_29'\n",
    "out = 'res'\n",
    "mod = Reconstruction(frame_doc, out)\n",
    "#mod.load_camera_pose(traj_doc)\n",
    "mod.load_camera_pose_tmu(traj_doc)"
   ]
  },
  {
   "cell_type": "code",
   "execution_count": 46,
   "metadata": {
    "scrolled": true
   },
   "outputs": [
    {
     "name": "stdout",
     "output_type": "stream",
     "text": [
      " --- camera drawn\n"
     ]
    }
   ],
   "source": [
    "rec = mod.draw_camera()"
   ]
  },
  {
   "cell_type": "code",
   "execution_count": 3,
   "metadata": {},
   "outputs": [
    {
     "name": "stderr",
     "output_type": "stream",
     "text": [
      "[========================================================================] 100%\n"
     ]
    }
   ],
   "source": [
    "mod.make_ply(8)"
   ]
  },
  {
   "cell_type": "markdown",
   "metadata": {},
   "source": [
    "## Output example"
   ]
  },
  {
   "cell_type": "markdown",
   "metadata": {},
   "source": [
    "![title](img/ply1.png)\n",
    "![title](img/ply2.png)"
   ]
  }
 ],
 "metadata": {
  "celltoolbar": "Raw Cell Format",
  "kernelspec": {
   "display_name": "Python 3",
   "language": "python",
   "name": "python3"
  },
  "language_info": {
   "codemirror_mode": {
    "name": "ipython",
    "version": 3
   },
   "file_extension": ".py",
   "mimetype": "text/x-python",
   "name": "python",
   "nbconvert_exporter": "python",
   "pygments_lexer": "ipython3",
   "version": "3.6.5"
  }
 },
 "nbformat": 4,
 "nbformat_minor": 2
}
