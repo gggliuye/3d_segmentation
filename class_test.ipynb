{
 "cells": [
  {
   "cell_type": "code",
   "execution_count": 4,
   "metadata": {},
   "outputs": [],
   "source": [
    "from LoopClosure import LoopClosure\n",
    "import glob\n",
    "import numpy as np"
   ]
  },
  {
   "cell_type": "code",
   "execution_count": 2,
   "metadata": {},
   "outputs": [
    {
     "name": "stdout",
     "output_type": "stream",
     "text": [
      "--- train finished ---\n"
     ]
    }
   ],
   "source": [
    "loopclosure = LoopClosure()\n",
    "\n",
    "FileList = glob.glob('F:/pfe_2/realsense/frames/rgb/*.npy')\n",
    "loopclosure.set_vocabulary_by_train(FileList)"
   ]
  },
  {
   "cell_type": "markdown",
   "metadata": {},
   "source": [
    "![title](img/4.PNG)"
   ]
  },
  {
   "cell_type": "code",
   "execution_count": 5,
   "metadata": {},
   "outputs": [
    {
     "name": "stdout",
     "output_type": "stream",
     "text": [
      "0 if detected loop: False ,   if true with image num:  []\n",
      "1 if detected loop: True ,   if true with image num:  [0]\n",
      "2 if detected loop: False ,   if true with image num:  []\n",
      "3 if detected loop: True ,   if true with image num:  [2]\n",
      "4 if detected loop: True ,   if true with image num:  [2]\n",
      "5 if detected loop: False ,   if true with image num:  []\n",
      "6 if detected loop: False ,   if true with image num:  []\n",
      "7 if detected loop: True ,   if true with image num:  [2, 5, 6]\n",
      "8 if detected loop: True ,   if true with image num:  [2]\n",
      "9 if detected loop: False ,   if true with image num:  []\n",
      "10 if detected loop: True ,   if true with image num:  [9]\n",
      "11 if detected loop: False ,   if true with image num:  []\n",
      "12 if detected loop: False ,   if true with image num:  []\n",
      "13 if detected loop: False ,   if true with image num:  []\n",
      "14 if detected loop: True ,   if true with image num:  [11, 13]\n",
      "15 if detected loop: True ,   if true with image num:  [9]\n",
      "16 if detected loop: True ,   if true with image num:  [9]\n",
      "17 if detected loop: True ,   if true with image num:  [2]\n",
      "18 if detected loop: True ,   if true with image num:  [2]\n",
      "19 if detected loop: True ,   if true with image num:  [2, 5]\n",
      "20 if detected loop: False ,   if true with image num:  []\n",
      "21 if detected loop: False ,   if true with image num:  []\n",
      "22 if detected loop: False ,   if true with image num:  []\n",
      "23 if detected loop: False ,   if true with image num:  []\n",
      "24 if detected loop: False ,   if true with image num:  []\n",
      "25 if detected loop: False ,   if true with image num:  []\n",
      "26 if detected loop: False ,   if true with image num:  []\n",
      "27 if detected loop: False ,   if true with image num:  []\n",
      "28 if detected loop: True ,   if true with image num:  [11, 27]\n",
      "29 if detected loop: True ,   if true with image num:  [13]\n",
      "30 if detected loop: False ,   if true with image num:  []\n",
      "31 if detected loop: True ,   if true with image num:  [13, 30]\n"
     ]
    }
   ],
   "source": [
    "filedict = 'loop_closure_dict.pickle'\n",
    "for i in range(32):\n",
    "    image = np.load('F:/pfe_2/realsense/frames/rgb/'+str(i).zfill(3)+'.npy')\n",
    "    inp = loopclosure.get_signature(image)\n",
    "    \n",
    "    d, n = loopclosure.loop_closure_detection(inp, i, filedict, threshold=0.08)\n",
    "    print(i,'if detected loop:', d, ',   if true with image num: ',n )"
   ]
  },
  {
   "cell_type": "code",
   "execution_count": null,
   "metadata": {},
   "outputs": [],
   "source": []
  }
 ],
 "metadata": {
  "kernelspec": {
   "display_name": "python 3.5 tf gpu",
   "language": "python",
   "name": "tensorflow_gpu"
  },
  "language_info": {
   "codemirror_mode": {
    "name": "ipython",
    "version": 3
   },
   "file_extension": ".py",
   "mimetype": "text/x-python",
   "name": "python",
   "nbconvert_exporter": "python",
   "pygments_lexer": "ipython3",
   "version": "3.5.5"
  }
 },
 "nbformat": 4,
 "nbformat_minor": 2
}
