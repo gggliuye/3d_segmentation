{
 "cells": [
  {
   "cell_type": "code",
   "execution_count": 27,
   "metadata": {},
   "outputs": [],
   "source": [
    "import matplotlib.pyplot as plt\n",
    "import cv2\n",
    "import glob\n",
    "import h5py\n",
    "import numpy as np\n",
    "import scipy.io\n",
    "import matplotlib.pyplot as plt\n",
    "import matplotlib.image as mpimg\n",
    "from PIL import Image as im"
   ]
  },
  {
   "cell_type": "code",
   "execution_count": 4,
   "metadata": {},
   "outputs": [],
   "source": [
    "deps = glob.glob('toolbox_nyu_depth_v2/newsetd/*.png')\n",
    "rgbs = glob.glob('toolbox_nyu_depth_v2/newsetr/*.png')"
   ]
  },
  {
   "cell_type": "code",
   "execution_count": 65,
   "metadata": {},
   "outputs": [],
   "source": [
    "def make_data():\n",
    "    width = 480\n",
    "    height = 640\n",
    "    ll = len(deps)\n",
    "    lrr = len(rgbs)\n",
    "    newd = np.zeros([ll,width,height],dtype=np.float32)\n",
    "    newr = np.zeros([ll,width,height,3],dtype=np.float32)\n",
    "    jj = 0\n",
    "    for i in range(ll):\n",
    "        newd[i] = mpimg.imread(deps[i])\n",
    "        t0 = np.abs(np.double(deps[i][31:48]) - np.double(rgbs[jj][31:48]))\n",
    "        while jj < lrr-1:\n",
    "            tmp = np.abs(np.double(deps[i][31:48]) - np.double(rgbs[jj+1][31:48]))\n",
    "            if tmp>t0:\n",
    "                break\n",
    "            jj = jj + 1\n",
    "        newr[i] = mpimg.imread(rgbs[jj])\n",
    "    return newd, newr\n",
    "        "
   ]
  },
  {
   "cell_type": "code",
   "execution_count": 66,
   "metadata": {},
   "outputs": [],
   "source": [
    "newd, newr = make_data()"
   ]
  },
  {
   "cell_type": "code",
   "execution_count": null,
   "metadata": {},
   "outputs": [],
   "source": []
  },
  {
   "cell_type": "code",
   "execution_count": null,
   "metadata": {},
   "outputs": [],
   "source": []
  },
  {
   "cell_type": "code",
   "execution_count": 71,
   "metadata": {},
   "outputs": [],
   "source": [
    "filename = \"office01a.mat\"\n",
    "with h5py.File(filename, \"w\") as f2:\n",
    "    dset2 = f2.create_dataset(\"images\", data=newr)\n",
    "    dset3 = f2.create_dataset(\"depths\", data=newd)"
   ]
  },
  {
   "cell_type": "code",
   "execution_count": 72,
   "metadata": {},
   "outputs": [
    {
     "name": "stdout",
     "output_type": "stream",
     "text": [
      "depths        <HDF5 dataset \"depths\": shape (229, 480, 640), type \"<f4\">\n",
      "images        <HDF5 dataset \"images\": shape (229, 480, 640, 3), type \"<f4\">\n"
     ]
    }
   ],
   "source": [
    "f2 = h5py.File(filename, \"r\")\n",
    "#f = h5py.File('splits.mat', 'r')\n",
    "#print(f.items())\n",
    "for k, v in f2.items():\n",
    "    print(k,'      ',v)\n",
    "f2.close()"
   ]
  },
  {
   "cell_type": "code",
   "execution_count": null,
   "metadata": {},
   "outputs": [],
   "source": []
  }
 ],
 "metadata": {
  "kernelspec": {
   "display_name": "python 3.5 tf gpu",
   "language": "python",
   "name": "tensorflow_gpu"
  },
  "language_info": {
   "codemirror_mode": {
    "name": "ipython",
    "version": 3
   },
   "file_extension": ".py",
   "mimetype": "text/x-python",
   "name": "python",
   "nbconvert_exporter": "python",
   "pygments_lexer": "ipython3",
   "version": "3.5.5"
  }
 },
 "nbformat": 4,
 "nbformat_minor": 2
}
