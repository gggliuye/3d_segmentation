{
 "cells": [
  {
   "cell_type": "code",
   "execution_count": 72,
   "metadata": {},
   "outputs": [],
   "source": [
    "import urllib.request\n",
    "import glob\n",
    "import os\n",
    "import http.server"
   ]
  },
  {
   "cell_type": "markdown",
   "metadata": {},
   "source": [
    "# 1. Service of command in raspberry pi\n",
    "To recevie command from distance, we build a server in the raspberry pi by http package"
   ]
  },
  {
   "cell_type": "code",
   "execution_count": null,
   "metadata": {},
   "outputs": [],
   "source": [
    "# this cell is programmed to run in raspberry pi\n",
    "PORT=8888\n",
    "server_address=(\"\",PORT)\n",
    "server=http.server.HTTPServer\n",
    "handler=http.server.CGIHTTPRequestHandler\n",
    "handler.cgi_directories=[\"/\"]\n",
    "print(\"Robot server is activated on port:\",PORT)\n",
    "httpd.server(server_address,handler)\n",
    "httpd.serve_forever()"
   ]
  },
  {
   "cell_type": "markdown",
   "metadata": {},
   "source": [
    "# 2. Functions for operation of robot"
   ]
  },
  {
   "cell_type": "markdown",
   "metadata": {},
   "source": [
    "## 2.1 example function of move the robot"
   ]
  },
  {
   "cell_type": "code",
   "execution_count": null,
   "metadata": {},
   "outputs": [],
   "source": [
    "def move_robot(Robot, PWM, MOVString, TIME):\n",
    "    Robot.setPWMA(PWM)\n",
    "    Robot.setPWMB(PWM)\n",
    "    if (MOVString=='fro' ):\n",
    "        Robot.forward()\n",
    "        time.sleep(TIME)\n",
    "    elif (MOVString=='bac'):\n",
    "        Robot.backward()\n",
    "        time.sleep(TIME)\n",
    "    elif (MOVString=='lef'):\n",
    "        Robot.left()\n",
    "        time.sleep(TIME)\n",
    "    elif (MOVString=='rig'):\n",
    "        Robot.right()\n",
    "        time.sleep(TIME)\n",
    "    else:\n",
    "        Robot.stop()\n",
    "    return 0"
   ]
  },
  {
   "cell_type": "markdown",
   "metadata": {},
   "source": [
    "## 2.2 The program for receving command from distance"
   ]
  },
  {
   "cell_type": "code",
   "execution_count": null,
   "metadata": {},
   "outputs": [],
   "source": [
    "# this cell is programmed to run in raspberry pi\n",
    "import cgi\n",
    "import time\n",
    "from util_robot import *\n",
    "from picamera import PiCamera\n",
    "#get fields from request\n",
    "form=cgi.FieldStorage()\n",
    "COMMAND=form.getvalue(\"COMMAND\")\n",
    "my_list = COMMAND.split(\",\")\n",
    "PWM = float(my_list[0])\n",
    "MOVString = my_list[1]\n",
    "TIME = float(my_list[2])\n",
    "CAM = my_list[3]\n",
    "\n",
    "Robot=AlphaBot2()\n",
    "if CAM == 'True':\n",
    "    camera = PiCamera()\n",
    "    move_robot_with_camera(Robot,camera, PWM, MOVString, TIME)\n",
    "else:\n",
    "    move_robot(Robot, PWM, MOVString, TIME)"
   ]
  },
  {
   "cell_type": "markdown",
   "metadata": {},
   "source": [
    "# 3. Sending command to robot\n",
    "then we used urllib to send command to the robot\n",
    "### 3.1 example movement\n",
    "move the robot forword, with PMW equal to 50, running for one second, without activation of the pi camera."
   ]
  },
  {
   "cell_type": "code",
   "execution_count": 8,
   "metadata": {},
   "outputs": [],
   "source": [
    "page=urllib.urlopen(\"http://192.168.1.127:8888/move.py?50,fro,1,0\")"
   ]
  },
  {
   "cell_type": "markdown",
   "metadata": {},
   "source": [
    "### 3.2 example camera\n",
    "example to take 5 images(around the camera of range 180 degrees) and get these images by wget"
   ]
  },
  {
   "cell_type": "code",
   "execution_count": 73,
   "metadata": {},
   "outputs": [],
   "source": [
    "def start_get_image_from_robot():\n",
    "    infile = 'http://192.168.1.121:8888/image/'\n",
    "    outfile = 'keys/new_image/'\n",
    "    os.system(\"wget --accept jpg --input-file \"+ infile + \" --output-file \" + outfile)"
   ]
  },
  {
   "cell_type": "code",
   "execution_count": 74,
   "metadata": {},
   "outputs": [],
   "source": [
    "page=urllib.urlopen(\"http://192.168.1.127:8888/take_image.py?5\")\n",
    "start_get_image_from_robot()"
   ]
  },
  {
   "cell_type": "markdown",
   "metadata": {},
   "source": [
    "## 4. Refine the depth prediction\n",
    "As we get the robto now, which is about 10cm on the ground. We can make sure that the image should contain a part of the ground.\n",
    "So:\n",
    "1. we used a classic method (without machine learning) to make a segmentation of the image.\n",
    "2. take the lower parts as the groud.\n",
    "3. project our result depth prediction of this segments to the ground"
   ]
  },
  {
   "cell_type": "markdown",
   "metadata": {},
   "source": [
    "![title](img/imgs.PNG)"
   ]
  },
  {
   "cell_type": "markdown",
   "metadata": {},
   "source": [
    "![title](img/proj1.PNG)\n",
    "![title](img/proj2.PNG)\n",
    "1. This method help us get a great result of the 3D representation.\n",
    "2. However it gives limit to us, that we should get the information of the ground. Which may not be satisfied in real world.\n",
    "3. We tested it with the robot, sometime the robot was close to some object (about 20cm), and we completely lost the detection of the ground\n",
    "#### As a result, this method may not by useful"
   ]
  }
 ],
 "metadata": {
  "kernelspec": {
   "display_name": "python 3.5 tf gpu",
   "language": "python",
   "name": "tensorflow_gpu"
  },
  "language_info": {
   "codemirror_mode": {
    "name": "ipython",
    "version": 3
   },
   "file_extension": ".py",
   "mimetype": "text/x-python",
   "name": "python",
   "nbconvert_exporter": "python",
   "pygments_lexer": "ipython3",
   "version": "3.5.5"
  }
 },
 "nbformat": 4,
 "nbformat_minor": 2
}
